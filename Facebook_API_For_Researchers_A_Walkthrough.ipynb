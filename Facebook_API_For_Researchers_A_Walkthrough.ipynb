{
 "cells": [
  {
   "cell_type": "markdown",
   "metadata": {},
   "source": [
    "# DEVELOPMENT DRAFT \n",
    "# Introduction to Facebook API for Researchers\n",
    "\n",
    "This notebook was written by [John Simpson](mailto:john.simpson@computecanada.ca) and is meant to provide some simple, working examples for researchers who would like to collect information from Facebook.  This workbook uses a Python library called the [Facebook SDK](https://pypi.org/project/facebook-sdk-python/) to access the Facebook graph and collect information.  Much of this workbook is drawn from Study Tonight's [Working with Facebook Graph API](https://www.studytonight.com/network-programming-in-python/facebook-graph-api).  Official documentation for the Facebook SDK can be found [HERE](https://facebook-sdk.readthedocs.io/en/latest/index.html).  Official documentation for the Facebook API can be found [HERE](https://developers.facebook.com/docs/graph-api/reference).\n",
    "\n",
    "This notebook assumes:\n",
    "\n",
    "1. Basic familiarity with the Jupyter Notebook environment.\n",
    "2. A functioning python environment on the system it is run in and that you have the authority to install software on it.\n",
    "3. That you have a Facebook account [HERE](https://www.facebook.com/)\n",
    "4. That you pay attention to the various notes and warnings around the cells.\n",
    "\n",
    "I won't promise you any support but if you send me a note I'll help as I am able.\n",
    "\n",
    "With all this said, let's get started by installing the Facebook SDK."
   ]
  },
  {
   "cell_type": "code",
   "execution_count": null,
   "metadata": {},
   "outputs": [],
   "source": [
    "!pip install facebook-sdk"
   ]
  },
  {
   "cell_type": "markdown",
   "metadata": {},
   "source": [
    "With the Facebook SDK library installed on the system we load both it and the the JSON (javascript object notation) library for use throughout this workbook in the next block."
   ]
  },
  {
   "cell_type": "code",
   "execution_count": null,
   "metadata": {},
   "outputs": [],
   "source": [
    "import facebook\n",
    "import json"
   ]
  },
  {
   "cell_type": "markdown",
   "metadata": {},
   "source": [
    "[Note that almost every piece of code in the remainder of this workbook assumes that the two cells above have been run and run successfully.  If you open the workbook and immediately try to run a cell other than this one first then it is likely that you will receive an error.  Simply run the cells above and try to run the cell you want to run again.  If you are receiving errors then two likely possibilities are an incorrect installation of Python or no network connection.]"
   ]
  },
  {
   "cell_type": "markdown",
   "metadata": {},
   "source": [
    "## Authentication"
   ]
  },
  {
   "cell_type": "markdown",
   "metadata": {},
   "source": [
    "Use of this workbook–and the Facebook API (Application Programming Interface) in general—requires a Facebook account with the developer features turned on.  Once you have a regular Facebook account setup the develope features can can be quickly turned on by creating an app as follows:\n",
    "\n",
    "1. Go to [https://developers.facebook.com/](https://developers.facebook.com/) and choose \"Get Started\" from the top right corner.  (If you do not see \"Get Started\" then you have likely already created an app.  Choose, \"My Apps\" instead and then choosing the option to create a new app _or_ jumping to step ________ if you would like to use the app you already have.)\n",
    "2. You will be asked to share some information and to perform a test to prove you are not a bot.  Do this.\n",
    "3. You will be asked for a name for your app.  The demo version used to produce this notebook was called \"Test App for Training\".  You can call it anything you would like.\n",
    "4. You will be asked for an email to be contacted through if Facebook every needs to raise a concern about your app.  Provide this.\n",
    "\n",
    "When complete you will be put on a page for your app.  It will have a url in the address bar that looks like `https://developers.facebook.com/apps/321150513924422/add/` and has a bunch of products that can be added to the app listed as blocks in the middle of the page.  We are not interested in any of this.  At least not yet.  What we are interested in is an \"Access Token\" (basically a special number that will show we have permission to access the graph).  In order to be able to get this for a _production_ app you will first need to give Facebook some additional information, specifically a URL for a privacy policy and a URL for a terms of service agreement (you can find these by clicking on `Settings` in the left-hand menu of the app screen and then `Basic`).  If you need help creating a privacy policy have a look at the free policy builder provided by [privacypolicies.com](https://www.privacypolicies.com/blog/facebook-apps-privacy-policy-url/) and if you need a place to put it consider [github.com](https://www.github.com).\n",
    "\n",
    "We're not actually going to produce an app that anyone else is going to have access to at this point so we can ignore the need for these at the moment and grab the access token by:\n",
    "\n",
    "1. Going to [https://developers.facebook.com/tools/explorer/](https://developers.facebook.com/tools/explorer/).\n",
    "2. Clicking on the blue `Generate Access Token` button.\n",
    "3. Accepting the window that declares what information will be collected.\n",
    "\n",
    "This will place a temporary access token in the text field about the `Generate Access Token` button.  It will look something like this:                   \n",
    "        \n",
    "       EAAEE8YsF4fEBAOitY3RuiRyzEg1l25TNEdDQo5JOfT34PJbOZAs21UZChmyC5scAZBDhNzwSw679ZA4AtS5ry1ZAehfFMViBZCVvzIGxZAfppZClob7c8OZBsBRQGpJB7Wt9bVdSEPKnD8oIt7O1IITYgJEVTl9JdNL8UcZB4xFKZBJObVsv9C19MZCUa2ZABiiXlrvIbZBvgvcJWvr2ue1fWKAEC6Ni1WzJ7G5o2OY4NM3ZBolZCgZDZD\n",
    "\n",
    "You should avoid sharing this (the one above is either broken or expired) and good programming practice would have you never put it in your notebook but rather load it from an outside file so no one ever sees it.  For the purpose of this training session though this is overkill.  If you ever want to revoke an access token that has been compromised just go back to the page where it was generated and generate a new one.\n",
    "\n",
    "Copy your access token over the sample token in the block below and run the block."
   ]
  },
  {
   "cell_type": "code",
   "execution_count": null,
   "metadata": {},
   "outputs": [],
   "source": [
    "token = \"EBAEkFa5r1ZAYBAP6w9RvZBWcZBL4Q5FVe7jhICXDPsYRP97aO6ljBoLcEQA457J79xlSrpR7bLN9PiZBEjRjJZBS6F8NGiTAvdK8QEzP8PfCdpQyV73OiZCAhwZAbOzZBBaxrNVx5iexFLtcVAMiP84Ne15PO5yiw0ohYGlWvEIysr3DpbgsGLVvZBT59xl1zKXD3fMxgdLUg0t5kSdfMBowKWoljU6UyAwHZBvjJq4P6Q1AZDZD\"\n",
    "graph = facebook.GraphAPI(token)"
   ]
  },
  {
   "cell_type": "code",
   "execution_count": null,
   "metadata": {},
   "outputs": [],
   "source": [
    "#fields = ['first_name', 'location{location}','email','link']\n",
    "profile = graph.get_object('me',fields='first_name,location,link,email,likes,photos,friends,gender,feed')\n",
    "#return desired fields\n",
    "print(json.dumps(profile, indent=4))\n",
    "#print(profile['friends'])"
   ]
  },
  {
   "cell_type": "markdown",
   "metadata": {},
   "source": [
    "Note that while we asked for location and email that neither of these was returned.  Why?  We have not specifically enabled the appropriate permissions. These are in the drop down menus on the page where the access token was granted.  Let's go back and choose the appropriate ones for our app."
   ]
  },
  {
   "cell_type": "code",
   "execution_count": null,
   "metadata": {},
   "outputs": [],
   "source": [
    "#fields = ['first_name', 'location{location}','email','link']\n",
    "profile = graph.get_object('me',fields='first_name,location,link,email,likes,photos,friends,gender,feed')\n",
    "#return desired fields\n",
    "print(json.dumps(profile, indent=4))\n",
    "#print(profile['friends'])"
   ]
  },
  {
   "cell_type": "markdown",
   "metadata": {},
   "source": [
    "Unfortunately this is as far as we can go today.  Why?  Facebook has made some changes to what it requires in order to provide access to data like the public comments on a public page and the facebook-sdk for Python hasn't quite caught up to these yet.  We could work around this by building the queries ourselves but that's a little beyond the target skillset for these notebooks (and it will take more time that I haven't had the opportunity to put it).  The next revision of this notebook can be expected in late September 2020 and progress beyond this block can be expected for then."
   ]
  },
  {
   "cell_type": "markdown",
   "metadata": {},
   "source": [
    "# Incomplete / Broken Content Below"
   ]
  },
  {
   "cell_type": "code",
   "execution_count": null,
   "metadata": {},
   "outputs": [],
   "source": [
    "page = graph.get_object(,fields='first_name,location,link,email,likes,photos,friends,gender,feed')\n",
    "print(json.dumps(page, indent=4))"
   ]
  },
  {
   "cell_type": "code",
   "execution_count": null,
   "metadata": {},
   "outputs": [],
   "source": [
    "events = graph.request('/search?q=Poetry&type=event&limit=100')"
   ]
  },
  {
   "cell_type": "code",
   "execution_count": null,
   "metadata": {},
   "outputs": [],
   "source": [
    "page_name = input(\"Enter a page name: \")\n",
    "# list of required fields\n",
    "fields = ['id','name','about','likes','link']\n",
    "fields = ','.join(fields)\n",
    "page = graph.get_object(page_name, fields=fields)\n",
    "print(json.dumps(page,indent=4))"
   ]
  },
  {
   "cell_type": "code",
   "execution_count": null,
   "metadata": {},
   "outputs": [],
   "source": []
  },
  {
   "cell_type": "code",
   "execution_count": null,
   "metadata": {},
   "outputs": [],
   "source": [
    "pip install -e git+https://github.com/mobolic/facebook-sdk.git#egg=facebook-sdk"
   ]
  },
  {
   "cell_type": "code",
   "execution_count": null,
   "metadata": {},
   "outputs": [],
   "source": [
    "!git clone https://github.com/mobolic/facebook-sdk.git\n",
    "\n",
    "import getpass\n",
    "import os\n",
    "\n",
    "password = getpass.getpass()\n",
    "command = \"sudo -S python facebook-sdk/setup.py install\" #can be any command but don't forget -S as it enables input from stdin\n",
    "os.system('echo %s | %s' % (password, command))"
   ]
  },
  {
   "cell_type": "code",
   "execution_count": null,
   "metadata": {},
   "outputs": [],
   "source": [
    "!yes | pip uninstall facebook-sdk"
   ]
  },
  {
   "cell_type": "code",
   "execution_count": null,
   "metadata": {},
   "outputs": [],
   "source": [
    "#The app secret proof is a sha256 hash of your access token, using the app secret as the key. Here's what the call looks like in PHP:\n",
    "\n",
    "#$appsecret_proof= hash_hmac('sha256', $access_token, $app_secret); \n",
    "\n",
    "\n",
    "import hmac\n",
    "h = hmac.new( secret, token, hashlib.sha256 )\n",
    "print( h.hexdigest() )"
   ]
  },
  {
   "cell_type": "code",
   "execution_count": null,
   "metadata": {},
   "outputs": [],
   "source": [
    "https://developers.facebook.com/docs/facebook-login/review/\n",
    "\n",
    "https://developers.facebook.com/docs/graph-api/using-graph-api/"
   ]
  }
 ],
 "metadata": {
  "kernelspec": {
   "display_name": "Python 3",
   "language": "python",
   "name": "python3"
  },
  "language_info": {
   "codemirror_mode": {
    "name": "ipython",
    "version": 3
   },
   "file_extension": ".py",
   "mimetype": "text/x-python",
   "name": "python",
   "nbconvert_exporter": "python",
   "pygments_lexer": "ipython3",
   "version": "3.7.4"
  }
 },
 "nbformat": 4,
 "nbformat_minor": 1
}
